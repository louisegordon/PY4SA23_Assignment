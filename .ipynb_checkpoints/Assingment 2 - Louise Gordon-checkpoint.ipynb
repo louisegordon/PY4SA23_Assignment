{
 "cells": [
  {
   "cell_type": "markdown",
   "id": "e4c20dc7-3155-4504-8821-c9ac99b8f03d",
   "metadata": {},
   "source": [
    "# Lab Assignment No 2 - Louise Gordon"
   ]
  },
  {
   "cell_type": "markdown",
   "id": "eb0a07a0-eb67-4ad8-9ca3-79408460cc50",
   "metadata": {
    "tags": []
   },
   "source": [
    "##### 200013271"
   ]
  },
  {
   "cell_type": "markdown",
   "id": "241adc0f-cf77-43e0-b028-32835cfab89d",
   "metadata": {
    "tags": []
   },
   "source": [
    "##### https://github.com/louisegordon/PY4SA_Assignment.git"
   ]
  },
  {
   "cell_type": "markdown",
   "id": "0a66ca8d-d5e5-4dd4-b4da-91986e9de219",
   "metadata": {},
   "source": [
    "### Task 1"
   ]
  },
  {
   "cell_type": "code",
   "execution_count": 5,
   "id": "580f4bad-b132-44b8-bea1-809be6652d31",
   "metadata": {},
   "outputs": [
    {
     "name": "stdin",
     "output_type": "stream",
     "text": [
      "YOUR VALUE 5\n"
     ]
    },
    {
     "name": "stdout",
     "output_type": "stream",
     "text": [
      "Your value is not divisble by three\n"
     ]
    }
   ],
   "source": [
    "num=int(input(\"YOUR VALUE\"))\n",
    "if (num%3==0):\n",
    "    print(\"Your value is divisble by three\")\n",
    "else:\n",
    "    print(\"Your value is not divisble by three\")"
   ]
  },
  {
   "cell_type": "markdown",
   "id": "0d5d639c-6031-4a3f-b143-802daf18e3d6",
   "metadata": {},
   "source": [
    "### Task 2"
   ]
  },
  {
   "cell_type": "code",
   "execution_count": null,
   "id": "c275901b-982b-4e1f-ba16-13e73d15c425",
   "metadata": {},
   "outputs": [],
   "source": [
    "test"
   ]
  },
  {
   "cell_type": "code",
   "execution_count": null,
   "id": "800b2498-c781-42ce-837a-cd9b3a800aa7",
   "metadata": {},
   "outputs": [],
   "source": [
    "hello"
   ]
  },
  {
   "cell_type": "code",
   "execution_count": null,
   "id": "b7141001-96c0-454c-8264-3e18157f118a",
   "metadata": {},
   "outputs": [],
   "source": [
    "hi again "
   ]
  }
 ],
 "metadata": {
  "kernelspec": {
   "display_name": "Python 3 (ipykernel)",
   "language": "python",
   "name": "python3"
  },
  "language_info": {
   "codemirror_mode": {
    "name": "ipython",
    "version": 3
   },
   "file_extension": ".py",
   "mimetype": "text/x-python",
   "name": "python",
   "nbconvert_exporter": "python",
   "pygments_lexer": "ipython3",
   "version": "3.10.9"
  }
 },
 "nbformat": 4,
 "nbformat_minor": 5
}
