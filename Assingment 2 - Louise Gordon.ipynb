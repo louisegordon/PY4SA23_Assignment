{
 "cells": [
  {
   "cell_type": "markdown",
   "id": "e4c20dc7-3155-4504-8821-c9ac99b8f03d",
   "metadata": {},
   "source": [
    "# Lab Assignment No 2 - Louise Gordon"
   ]
  },
  {
   "cell_type": "markdown",
   "id": "eb0a07a0-eb67-4ad8-9ca3-79408460cc50",
   "metadata": {
    "tags": []
   },
   "source": [
    "##### 200013271"
   ]
  },
  {
   "cell_type": "markdown",
   "id": "241adc0f-cf77-43e0-b028-32835cfab89d",
   "metadata": {
    "tags": []
   },
   "source": [
    "##### https://github.com/louisegordon/PY4SA_Assignment.git"
   ]
  },
  {
   "cell_type": "markdown",
   "id": "0a66ca8d-d5e5-4dd4-b4da-91986e9de219",
   "metadata": {},
   "source": [
    "### Task 1"
   ]
  },
  {
   "cell_type": "code",
   "execution_count": 5,
   "id": "580f4bad-b132-44b8-bea1-809be6652d31",
   "metadata": {},
   "outputs": [
    {
     "name": "stdin",
     "output_type": "stream",
     "text": [
      "YOUR VALUE 5\n"
     ]
    },
    {
     "name": "stdout",
     "output_type": "stream",
     "text": [
      "Your value is not divisble by three\n"
     ]
    }
   ],
   "source": [
    "num=int(input(\"YOUR VALUE\"))\n",
    "if (num%3==0):\n",
    "    print(\"Your value is divisble by three\")\n",
    "else:\n",
    "    print(\"Your value is not divisble by three\")"
   ]
  },
  {
   "cell_type": "markdown",
   "id": "0d5d639c-6031-4a3f-b143-802daf18e3d6",
   "metadata": {},
   "source": [
    "### Task 2"
   ]
  },
  {
   "cell_type": "code",
   "execution_count": 1,
   "id": "c275901b-982b-4e1f-ba16-13e73d15c425",
   "metadata": {},
   "outputs": [
    {
     "name": "stdout",
     "output_type": "stream",
     "text": [
      "apple is acceptable\n"
     ]
    }
   ],
   "source": [
    "#If... else statement - fruits\n",
    "lst = ['apple', 'orange', 'pear', 'kiwi', 'strawberry'] #creating list of fruits\n",
    "i = \"apple\" #i as fruit input\n",
    "if i in lst: #check if fruit is in list\n",
    "    print((i), \"is acceptable\") #print if fruit is in list\n",
    "else:\n",
    "    print((i), \"is not acceptable\") #print if fruit is not in list"
   ]
  },
  {
   "cell_type": "markdown",
   "id": "fbf7ce6f-9658-4508-96f0-df40dd5f30ac",
   "metadata": {},
   "source": [
    "### Task 3"
   ]
  },
  {
   "cell_type": "code",
   "execution_count": null,
   "id": "b7141001-96c0-454c-8264-3e18157f118a",
   "metadata": {},
   "outputs": [],
   "source": [
    "#function to calculate distance between two coordinates using haversine formula\n",
    "\n"
   ]
  },
  {
   "cell_type": "markdown",
   "id": "4a3bb1a6-c83b-4faf-b4f6-9165cab310db",
   "metadata": {},
   "source": [
    "# Section 2 - Pandas and NumPy"
   ]
  },
  {
   "cell_type": "code",
   "execution_count": 5,
   "id": "0cf15f3c-fe5e-4db5-9032-dea26d4e2d2e",
   "metadata": {},
   "outputs": [
    {
     "data": {
      "text/html": [
       "<div>\n",
       "<style scoped>\n",
       "    .dataframe tbody tr th:only-of-type {\n",
       "        vertical-align: middle;\n",
       "    }\n",
       "\n",
       "    .dataframe tbody tr th {\n",
       "        vertical-align: top;\n",
       "    }\n",
       "\n",
       "    .dataframe thead th {\n",
       "        text-align: right;\n",
       "    }\n",
       "</style>\n",
       "<table border=\"1\" class=\"dataframe\">\n",
       "  <thead>\n",
       "    <tr style=\"text-align: right;\">\n",
       "      <th></th>\n",
       "      <th>fid</th>\n",
       "      <th>OBJECTID</th>\n",
       "      <th>Inventory_</th>\n",
       "      <th>Species</th>\n",
       "      <th>DBH</th>\n",
       "      <th>Condition</th>\n",
       "      <th>TreeHeight</th>\n",
       "      <th>CrownWidth</th>\n",
       "      <th>CrownWid_1</th>\n",
       "      <th>CollectedB</th>\n",
       "      <th>...</th>\n",
       "      <th>Genus</th>\n",
       "      <th>Common_nam</th>\n",
       "      <th>Genus_spec</th>\n",
       "      <th>Functional</th>\n",
       "      <th>Size</th>\n",
       "      <th>Native</th>\n",
       "      <th>Edible</th>\n",
       "      <th>Nuisance</th>\n",
       "      <th>Origin</th>\n",
       "      <th>Species_fa</th>\n",
       "    </tr>\n",
       "  </thead>\n",
       "  <tbody>\n",
       "    <tr>\n",
       "      <th>0</th>\n",
       "      <td>1</td>\n",
       "      <td>426</td>\n",
       "      <td>2017/05/09</td>\n",
       "      <td>PSME</td>\n",
       "      <td>37.4</td>\n",
       "      <td>Fair</td>\n",
       "      <td>105.0</td>\n",
       "      <td>44.0</td>\n",
       "      <td>57.0</td>\n",
       "      <td>staff</td>\n",
       "      <td>...</td>\n",
       "      <td>Pseudotsuga</td>\n",
       "      <td>Douglas-fir</td>\n",
       "      <td>Pseudotsuga menziesii</td>\n",
       "      <td>CE</td>\n",
       "      <td>L</td>\n",
       "      <td>Yes</td>\n",
       "      <td>NaN</td>\n",
       "      <td>NaN</td>\n",
       "      <td>North America - from British Columbia south to...</td>\n",
       "      <td>Bracts on cones look like a mouse's feet and t...</td>\n",
       "    </tr>\n",
       "    <tr>\n",
       "      <th>1</th>\n",
       "      <td>2</td>\n",
       "      <td>427</td>\n",
       "      <td>2017/05/09</td>\n",
       "      <td>PSME</td>\n",
       "      <td>32.5</td>\n",
       "      <td>Fair</td>\n",
       "      <td>94.0</td>\n",
       "      <td>49.0</td>\n",
       "      <td>45.0</td>\n",
       "      <td>staff</td>\n",
       "      <td>...</td>\n",
       "      <td>Pseudotsuga</td>\n",
       "      <td>Douglas-fir</td>\n",
       "      <td>Pseudotsuga menziesii</td>\n",
       "      <td>CE</td>\n",
       "      <td>L</td>\n",
       "      <td>Yes</td>\n",
       "      <td>NaN</td>\n",
       "      <td>NaN</td>\n",
       "      <td>North America - from British Columbia south to...</td>\n",
       "      <td>Bracts on cones look like a mouse's feet and t...</td>\n",
       "    </tr>\n",
       "    <tr>\n",
       "      <th>2</th>\n",
       "      <td>3</td>\n",
       "      <td>428</td>\n",
       "      <td>2017/05/09</td>\n",
       "      <td>CRLA</td>\n",
       "      <td>9.7</td>\n",
       "      <td>Fair</td>\n",
       "      <td>23.0</td>\n",
       "      <td>28.0</td>\n",
       "      <td>27.0</td>\n",
       "      <td>staff</td>\n",
       "      <td>...</td>\n",
       "      <td>Crataegus</td>\n",
       "      <td>Lavalle hawthorn</td>\n",
       "      <td>Crataegus x lavalleei</td>\n",
       "      <td>BD</td>\n",
       "      <td>S</td>\n",
       "      <td>No</td>\n",
       "      <td>NaN</td>\n",
       "      <td>NaN</td>\n",
       "      <td>North America - a hybrid between a Mexican and...</td>\n",
       "      <td>Like most hawthorns, the tree has stout thorns...</td>\n",
       "    </tr>\n",
       "    <tr>\n",
       "      <th>3</th>\n",
       "      <td>4</td>\n",
       "      <td>429</td>\n",
       "      <td>2017/05/09</td>\n",
       "      <td>QURU</td>\n",
       "      <td>10.3</td>\n",
       "      <td>Poor</td>\n",
       "      <td>28.0</td>\n",
       "      <td>38.0</td>\n",
       "      <td>31.0</td>\n",
       "      <td>staff</td>\n",
       "      <td>...</td>\n",
       "      <td>Quercus</td>\n",
       "      <td>northern red oak</td>\n",
       "      <td>Quercus rubra</td>\n",
       "      <td>BD</td>\n",
       "      <td>L</td>\n",
       "      <td>No</td>\n",
       "      <td>NaN</td>\n",
       "      <td>NaN</td>\n",
       "      <td>North America - eastern Canada and eastern USA...</td>\n",
       "      <td>Acorns take two years to mature and are an imp...</td>\n",
       "    </tr>\n",
       "    <tr>\n",
       "      <th>4</th>\n",
       "      <td>5</td>\n",
       "      <td>430</td>\n",
       "      <td>2017/05/09</td>\n",
       "      <td>PSME</td>\n",
       "      <td>33.2</td>\n",
       "      <td>Fair</td>\n",
       "      <td>102.0</td>\n",
       "      <td>43.0</td>\n",
       "      <td>44.0</td>\n",
       "      <td>staff</td>\n",
       "      <td>...</td>\n",
       "      <td>Pseudotsuga</td>\n",
       "      <td>Douglas-fir</td>\n",
       "      <td>Pseudotsuga menziesii</td>\n",
       "      <td>CE</td>\n",
       "      <td>L</td>\n",
       "      <td>Yes</td>\n",
       "      <td>NaN</td>\n",
       "      <td>NaN</td>\n",
       "      <td>North America - from British Columbia south to...</td>\n",
       "      <td>Bracts on cones look like a mouse's feet and t...</td>\n",
       "    </tr>\n",
       "    <tr>\n",
       "      <th>...</th>\n",
       "      <td>...</td>\n",
       "      <td>...</td>\n",
       "      <td>...</td>\n",
       "      <td>...</td>\n",
       "      <td>...</td>\n",
       "      <td>...</td>\n",
       "      <td>...</td>\n",
       "      <td>...</td>\n",
       "      <td>...</td>\n",
       "      <td>...</td>\n",
       "      <td>...</td>\n",
       "      <td>...</td>\n",
       "      <td>...</td>\n",
       "      <td>...</td>\n",
       "      <td>...</td>\n",
       "      <td>...</td>\n",
       "      <td>...</td>\n",
       "      <td>...</td>\n",
       "      <td>...</td>\n",
       "      <td>...</td>\n",
       "      <td>...</td>\n",
       "    </tr>\n",
       "    <tr>\n",
       "      <th>25529</th>\n",
       "      <td>25530</td>\n",
       "      <td>726046</td>\n",
       "      <td>2018/08/16</td>\n",
       "      <td>QURU</td>\n",
       "      <td>31.6</td>\n",
       "      <td>Fair</td>\n",
       "      <td>74.0</td>\n",
       "      <td>50.0</td>\n",
       "      <td>46.0</td>\n",
       "      <td>volunteer</td>\n",
       "      <td>...</td>\n",
       "      <td>Quercus</td>\n",
       "      <td>northern red oak</td>\n",
       "      <td>Quercus rubra</td>\n",
       "      <td>BD</td>\n",
       "      <td>L</td>\n",
       "      <td>No</td>\n",
       "      <td>NaN</td>\n",
       "      <td>NaN</td>\n",
       "      <td>North America - eastern Canada and eastern USA...</td>\n",
       "      <td>Acorns take two years to mature and are an imp...</td>\n",
       "    </tr>\n",
       "    <tr>\n",
       "      <th>25530</th>\n",
       "      <td>25531</td>\n",
       "      <td>726443</td>\n",
       "      <td>2019/10/11</td>\n",
       "      <td>PSME</td>\n",
       "      <td>0.4</td>\n",
       "      <td>Good</td>\n",
       "      <td>8.0</td>\n",
       "      <td>6.0</td>\n",
       "      <td>6.0</td>\n",
       "      <td>staff</td>\n",
       "      <td>...</td>\n",
       "      <td>Pseudotsuga</td>\n",
       "      <td>Douglas-fir</td>\n",
       "      <td>Pseudotsuga menziesii</td>\n",
       "      <td>CE</td>\n",
       "      <td>L</td>\n",
       "      <td>Yes</td>\n",
       "      <td>NaN</td>\n",
       "      <td>NaN</td>\n",
       "      <td>North America - from British Columbia south to...</td>\n",
       "      <td>Bracts on cones look like a mouse's feet and t...</td>\n",
       "    </tr>\n",
       "    <tr>\n",
       "      <th>25531</th>\n",
       "      <td>25532</td>\n",
       "      <td>726444</td>\n",
       "      <td>2019/10/11</td>\n",
       "      <td>MEGL</td>\n",
       "      <td>26.3</td>\n",
       "      <td>Fair</td>\n",
       "      <td>79.0</td>\n",
       "      <td>30.0</td>\n",
       "      <td>40.0</td>\n",
       "      <td>staff</td>\n",
       "      <td>...</td>\n",
       "      <td>Metasequoia</td>\n",
       "      <td>dawn redwood</td>\n",
       "      <td>Metasequoia glyptostroboides</td>\n",
       "      <td>CD</td>\n",
       "      <td>L</td>\n",
       "      <td>No</td>\n",
       "      <td>NaN</td>\n",
       "      <td>NaN</td>\n",
       "      <td>Asia - central China</td>\n",
       "      <td>A deciduous conifer, dawn redwood is Oregon's ...</td>\n",
       "    </tr>\n",
       "    <tr>\n",
       "      <th>25532</th>\n",
       "      <td>25533</td>\n",
       "      <td>726445</td>\n",
       "      <td>2019/10/11</td>\n",
       "      <td>PCSI</td>\n",
       "      <td>8.8</td>\n",
       "      <td>Fair</td>\n",
       "      <td>43.0</td>\n",
       "      <td>20.0</td>\n",
       "      <td>20.0</td>\n",
       "      <td>staff</td>\n",
       "      <td>...</td>\n",
       "      <td>Picea</td>\n",
       "      <td>Sitka spruce</td>\n",
       "      <td>Picea sitchensis</td>\n",
       "      <td>CE</td>\n",
       "      <td>L</td>\n",
       "      <td>Yes</td>\n",
       "      <td>NaN</td>\n",
       "      <td>NaN</td>\n",
       "      <td>North America - Alaska south to British Columb...</td>\n",
       "      <td>Green, 1\" long, typically flat needles are the...</td>\n",
       "    </tr>\n",
       "    <tr>\n",
       "      <th>25533</th>\n",
       "      <td>25534</td>\n",
       "      <td>726446</td>\n",
       "      <td>2019/10/11</td>\n",
       "      <td>COKO</td>\n",
       "      <td>2.0</td>\n",
       "      <td>Good</td>\n",
       "      <td>18.0</td>\n",
       "      <td>13.0</td>\n",
       "      <td>13.0</td>\n",
       "      <td>staff</td>\n",
       "      <td>...</td>\n",
       "      <td>Cornus</td>\n",
       "      <td>kousa dogwood</td>\n",
       "      <td>Cornus kousa</td>\n",
       "      <td>BD</td>\n",
       "      <td>S</td>\n",
       "      <td>No</td>\n",
       "      <td>NaN</td>\n",
       "      <td>NaN</td>\n",
       "      <td>Asia - Japan, Korea</td>\n",
       "      <td>A 20-30' tree with showy white flower bracts t...</td>\n",
       "    </tr>\n",
       "  </tbody>\n",
       "</table>\n",
       "<p>25534 rows × 40 columns</p>\n",
       "</div>"
      ],
      "text/plain": [
       "         fid  OBJECTID  Inventory_ Species   DBH Condition  TreeHeight  \\\n",
       "0          1       426  2017/05/09    PSME  37.4      Fair       105.0   \n",
       "1          2       427  2017/05/09    PSME  32.5      Fair        94.0   \n",
       "2          3       428  2017/05/09    CRLA   9.7      Fair        23.0   \n",
       "3          4       429  2017/05/09    QURU  10.3      Poor        28.0   \n",
       "4          5       430  2017/05/09    PSME  33.2      Fair       102.0   \n",
       "...      ...       ...         ...     ...   ...       ...         ...   \n",
       "25529  25530    726046  2018/08/16    QURU  31.6      Fair        74.0   \n",
       "25530  25531    726443  2019/10/11    PSME   0.4      Good         8.0   \n",
       "25531  25532    726444  2019/10/11    MEGL  26.3      Fair        79.0   \n",
       "25532  25533    726445  2019/10/11    PCSI   8.8      Fair        43.0   \n",
       "25533  25534    726446  2019/10/11    COKO   2.0      Good        18.0   \n",
       "\n",
       "       CrownWidth  CrownWid_1 CollectedB  ...        Genus        Common_nam  \\\n",
       "0            44.0        57.0      staff  ...  Pseudotsuga       Douglas-fir   \n",
       "1            49.0        45.0      staff  ...  Pseudotsuga       Douglas-fir   \n",
       "2            28.0        27.0      staff  ...    Crataegus  Lavalle hawthorn   \n",
       "3            38.0        31.0      staff  ...      Quercus  northern red oak   \n",
       "4            43.0        44.0      staff  ...  Pseudotsuga       Douglas-fir   \n",
       "...           ...         ...        ...  ...          ...               ...   \n",
       "25529        50.0        46.0  volunteer  ...      Quercus  northern red oak   \n",
       "25530         6.0         6.0      staff  ...  Pseudotsuga       Douglas-fir   \n",
       "25531        30.0        40.0      staff  ...  Metasequoia      dawn redwood   \n",
       "25532        20.0        20.0      staff  ...        Picea      Sitka spruce   \n",
       "25533        13.0        13.0      staff  ...       Cornus     kousa dogwood   \n",
       "\n",
       "                         Genus_spec Functional Size Native Edible Nuisance  \\\n",
       "0             Pseudotsuga menziesii         CE    L    Yes    NaN      NaN   \n",
       "1             Pseudotsuga menziesii         CE    L    Yes    NaN      NaN   \n",
       "2             Crataegus x lavalleei         BD    S     No    NaN      NaN   \n",
       "3                     Quercus rubra         BD    L     No    NaN      NaN   \n",
       "4             Pseudotsuga menziesii         CE    L    Yes    NaN      NaN   \n",
       "...                             ...        ...  ...    ...    ...      ...   \n",
       "25529                 Quercus rubra         BD    L     No    NaN      NaN   \n",
       "25530         Pseudotsuga menziesii         CE    L    Yes    NaN      NaN   \n",
       "25531  Metasequoia glyptostroboides         CD    L     No    NaN      NaN   \n",
       "25532              Picea sitchensis         CE    L    Yes    NaN      NaN   \n",
       "25533                  Cornus kousa         BD    S     No    NaN      NaN   \n",
       "\n",
       "                                                  Origin  \\\n",
       "0      North America - from British Columbia south to...   \n",
       "1      North America - from British Columbia south to...   \n",
       "2      North America - a hybrid between a Mexican and...   \n",
       "3      North America - eastern Canada and eastern USA...   \n",
       "4      North America - from British Columbia south to...   \n",
       "...                                                  ...   \n",
       "25529  North America - eastern Canada and eastern USA...   \n",
       "25530  North America - from British Columbia south to...   \n",
       "25531                               Asia - central China   \n",
       "25532  North America - Alaska south to British Columb...   \n",
       "25533                                Asia - Japan, Korea   \n",
       "\n",
       "                                              Species_fa  \n",
       "0      Bracts on cones look like a mouse's feet and t...  \n",
       "1      Bracts on cones look like a mouse's feet and t...  \n",
       "2      Like most hawthorns, the tree has stout thorns...  \n",
       "3      Acorns take two years to mature and are an imp...  \n",
       "4      Bracts on cones look like a mouse's feet and t...  \n",
       "...                                                  ...  \n",
       "25529  Acorns take two years to mature and are an imp...  \n",
       "25530  Bracts on cones look like a mouse's feet and t...  \n",
       "25531  A deciduous conifer, dawn redwood is Oregon's ...  \n",
       "25532  Green, 1\" long, typically flat needles are the...  \n",
       "25533  A 20-30' tree with showy white flower bracts t...  \n",
       "\n",
       "[25534 rows x 40 columns]"
      ]
     },
     "execution_count": 5,
     "metadata": {},
     "output_type": "execute_result"
    }
   ],
   "source": [
    "import pandas as pd\n",
    "\n",
    "trees_df = pd.read_csv(\"Assignment 2 Data/portland_park_trees.csv\")\n",
    "trees_df"
   ]
  },
  {
   "cell_type": "markdown",
   "id": "6d9213ff-b443-42ba-abad-2f1f02176a8f",
   "metadata": {},
   "source": [
    "### Q1"
   ]
  },
  {
   "cell_type": "code",
   "execution_count": 26,
   "id": "ea2f48e7-950c-4d12-9753-f51d7fdaa49e",
   "metadata": {},
   "outputs": [
    {
     "name": "stdout",
     "output_type": "stream",
     "text": [
      "5675\n"
     ]
    }
   ],
   "source": [
    "#total number of Quercus and Acer genus\n",
    "\n",
    "Quercus_Acer=trees_df.loc[trees_df[\"Genus\"].isin([\"Quercus\",\"Acer\"])] #create dataframe of Quercus and Acer\n",
    "print(len(Quercus_Acer)) #length of dataframe\n",
    "\n",
    "\n"
   ]
  },
  {
   "cell_type": "markdown",
   "id": "7f5de0cc-b86a-4248-9487-cd9670ff05b6",
   "metadata": {},
   "source": [
    "### Q2"
   ]
  },
  {
   "cell_type": "code",
   "execution_count": 27,
   "id": "eae4b082-d4d9-4d10-9598-eaa98f479475",
   "metadata": {},
   "outputs": [
    {
     "name": "stdout",
     "output_type": "stream",
     "text": [
      "124\n"
     ]
    }
   ],
   "source": [
    "#number of Quercus and Acer genus with a DBH of over 50inchs\n",
    "DBH50 = Quercus_Acer.loc[Quercus_Acer[\"DBH\"] > 50] #used Quercus_Acer df made previosuly and quired it to look at DBH over 50\n",
    "print(len(DBH50)) #length of dataframe"
   ]
  },
  {
   "cell_type": "markdown",
   "id": "752cc4a3-7024-4bca-906b-ef0d0c3e4373",
   "metadata": {},
   "source": [
    "### Q3"
   ]
  },
  {
   "cell_type": "code",
   "execution_count": 32,
   "id": "2636cf5e-3dbe-48d7-92cd-316257bb6ebc",
   "metadata": {},
   "outputs": [
    {
     "data": {
      "text/plain": [
       "23.56823839157492"
      ]
     },
     "execution_count": 32,
     "metadata": {},
     "output_type": "execute_result"
    }
   ],
   "source": [
    "Quercusdf = trees_df.loc[trees_df[\"Genus\"].isin([\"Quercus\"])]\n",
    "Quercusdf[\"DBH\"].mean()"
   ]
  },
  {
   "cell_type": "code",
   "execution_count": 37,
   "id": "6e1eeaa0-63e0-4022-b25e-c9f5771623f4",
   "metadata": {},
   "outputs": [
    {
     "data": {
      "text/plain": [
       "Genus\n",
       "Quercus     23.568238\n",
       "Acer        18.419085\n",
       "Fraxinus    11.033610\n",
       "Name: DBH, dtype: float64"
      ]
     },
     "execution_count": 37,
     "metadata": {},
     "output_type": "execute_result"
    }
   ],
   "source": [
    "QAFdf = trees_df.loc[trees_df[\"Genus\"].isin([\"Quercus\", \"Acer\", \"Fraxinus\"])] #dataframe with the three genera ge\n",
    "QAFdf.groupby(\"Genus\")[\"DBH\"].mean().sort_values(ascending=False) # DBH of each gensus sorted in ascending value showing Quercus with highest mean"
   ]
  },
  {
   "cell_type": "markdown",
   "id": "927f4cb9-c6ab-490d-bc66-73bb96df3a4a",
   "metadata": {},
   "source": [
    "### Q4"
   ]
  },
  {
   "cell_type": "code",
   "execution_count": null,
   "id": "82a08225-b93b-4bc1-84c4-b202ececb49e",
   "metadata": {},
   "outputs": [],
   "source": [
    "#number of different species of trees recorded in Acer genus"
   ]
  }
 ],
 "metadata": {
  "kernelspec": {
   "display_name": "Python 3 (ipykernel)",
   "language": "python",
   "name": "python3"
  },
  "language_info": {
   "codemirror_mode": {
    "name": "ipython",
    "version": 3
   },
   "file_extension": ".py",
   "mimetype": "text/x-python",
   "name": "python",
   "nbconvert_exporter": "python",
   "pygments_lexer": "ipython3",
   "version": "3.10.9"
  }
 },
 "nbformat": 4,
 "nbformat_minor": 5
}
